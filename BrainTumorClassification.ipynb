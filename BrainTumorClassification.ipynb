{
 "cells": [
  {
   "cell_type": "markdown",
   "id": "17c906b7",
   "metadata": {},
   "source": [
    "# Brain Tumor Classification."
   ]
  },
  {
   "cell_type": "code",
   "execution_count": 3,
   "id": "1cb62351",
   "metadata": {},
   "outputs": [],
   "source": [
    "import pandas as pd\n",
    "import numpy as np\n",
    "import matplotlib.pyplot as plt\n",
    "import os, shutil\n",
    "import cv2\n",
    "import matplotlib.image as mpimg\n",
    "import seaborn as sns\n",
    "%matplotlib inline\n",
    "plt.style.use('ggplot')"
   ]
  },
  {
   "cell_type": "markdown",
   "id": "b7000aa9",
   "metadata": {},
   "source": [
    "### Data Preprocessing."
   ]
  },
  {
   "cell_type": "markdown",
   "id": "c6b3b9a2",
   "metadata": {},
   "source": [
    "Zipfile extraction."
   ]
  },
  {
   "cell_type": "code",
   "execution_count": 1,
   "id": "33727da6",
   "metadata": {},
   "outputs": [],
   "source": [
    "import zipfile\n",
    "\n",
    "z = zipfile.ZipFile('brain_tumor_dataset.zip')\n",
    "\n",
    "z.extractall()"
   ]
  },
  {
   "cell_type": "markdown",
   "id": "6e15bffc",
   "metadata": {},
   "source": [
    "File rename."
   ]
  },
  {
   "cell_type": "code",
   "execution_count": 4,
   "id": "af1cbea6",
   "metadata": {},
   "outputs": [
    {
     "name": "stdout",
     "output_type": "stream",
     "text": [
      "All files are renamed in the positive dir.\n"
     ]
    }
   ],
   "source": [
    "folder = 'brain_tumor_dataset/tumor_positive/'\n",
    "count = 1\n",
    "\n",
    "for filename in os.listdir(folder):\n",
    "    source = folder + filename\n",
    "    destination = folder + \"positive_\" +str(count)+\".jpg\"\n",
    "    os.rename(source, destination)\n",
    "    count+=1\n",
    "print(\"All files are renamed in the positive dir.\")"
   ]
  },
  {
   "cell_type": "code",
   "execution_count": 5,
   "id": "1c994fb1",
   "metadata": {},
   "outputs": [
    {
     "name": "stdout",
     "output_type": "stream",
     "text": [
      "All files are renamed in the negative dir.\n"
     ]
    }
   ],
   "source": [
    "folder = 'brain_tumor_dataset/tumor_negative/'\n",
    "count = 1\n",
    "\n",
    "for filename in os.listdir(folder):\n",
    "    source = folder + filename\n",
    "    destination = folder + \"negative_\" +str(count)+\".jpg\"\n",
    "    os.rename(source, destination)\n",
    "    count+=1\n",
    "print(\"All files are renamed in the negative dir.\")"
   ]
  }
 ],
 "metadata": {
  "kernelspec": {
   "display_name": "Python 3",
   "language": "python",
   "name": "python3"
  },
  "language_info": {
   "codemirror_mode": {
    "name": "ipython",
    "version": 3
   },
   "file_extension": ".py",
   "mimetype": "text/x-python",
   "name": "python",
   "nbconvert_exporter": "python",
   "pygments_lexer": "ipython3",
   "version": "3.13.2"
  }
 },
 "nbformat": 4,
 "nbformat_minor": 5
}
